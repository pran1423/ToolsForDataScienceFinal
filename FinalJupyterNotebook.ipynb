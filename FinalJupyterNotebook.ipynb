{
 "cells": [
  {
   "cell_type": "markdown",
   "metadata": {},
   "source": [
    "<center>\n",
    "    <img src=\"https://s3-api.us-geo.objectstorage.softlayer.net/cf-courses-data/CognitiveClass/Logos/organization_logo/organization_logo.png\" width=\"300\" alt=\"cognitiveclass.ai logo\"  />\n",
    "</center>\n"
   ]
  },
  {
   "cell_type": "markdown",
   "metadata": {},
   "source": [
    "#### Add your code below following the instructions given in the course\n"
   ]
  },
  {
   "cell_type": "markdown",
   "metadata": {},
   "source": [
    "<h1>My Jupyter Notebook on IBM Watson Studio<h1>"
   ]
  },
  {
   "cell_type": "markdown",
   "metadata": {},
   "source": [
    "<b>Pranav Palanickal</b>\n",
    "    \n",
    "I want to become a data scientist"
   ]
  },
  {
   "cell_type": "markdown",
   "metadata": {},
   "source": [
    "<i>I'm interested in data science because i want to learn to analyze data and find patterns in it. Predicting future output with what was learned interests me a lot which is why data science is my favorite></i>"
   ]
  },
  {
   "cell_type": "markdown",
   "metadata": {},
   "source": [
    "<h3>The snippet of code below adds 5 and 3 and prints out the result<h3>"
   ]
  },
  {
   "cell_type": "code",
   "execution_count": 3,
   "metadata": {},
   "outputs": [
    {
     "name": "stdout",
     "output_type": "stream",
     "text": [
      "8\n"
     ]
    }
   ],
   "source": [
    "add=5+3\n",
    "print(add)"
   ]
  },
  {
   "cell_type": "markdown",
   "metadata": {},
   "source": [
    "<h3>WHO LIKES WHAT KIND OF ICE CREAM</h3>\n",
    "    \n",
    "    \n",
    "| vanilla | Chocolate | Strawberry |\n",
    "| :------:| :------:  | :------:   |\n",
    "| 88      | 59        |   99       |\n",
    "\n",
    "    \n",
    "<h3>LINK TO KHAN ACADEMY</h3>\n",
    "    \n",
    "    \n",
    "<a href=\"https://www.google.com/search?q=khan+academy&oq=khan+academy&aqs=chrome..69i57j46i199i433i465i512j0i131i433i512j0i433i512j0i512j0i131i433i512j0i433i512j69i65.6800j0j7&sourceid=chrome&ie=UTF-8\">Khan Academy</a>\n",
    "    \n",
    "\n",
    "    \n",
    "    \n",
    " <h3>types of bending in avatar</h3>\n",
    "  \n",
    "___\n",
    "\n",
    "Earth Bending\n",
    "\n",
    "___\n",
    "\n",
    "water Bending\n",
    "\n",
    "___\n",
    "\n",
    "Fire bending\n",
    "     \n",
    "___\n",
    "     \n",
    "Air Bending\n"
   ]
  }
 ],
 "metadata": {
  "kernelspec": {
   "display_name": "Python",
   "language": "python",
   "name": "conda-env-python-py"
  },
  "language_info": {
   "codemirror_mode": {
    "name": "ipython",
    "version": 3
   },
   "file_extension": ".py",
   "mimetype": "text/x-python",
   "name": "python",
   "nbconvert_exporter": "python",
   "pygments_lexer": "ipython3",
   "version": "3.7.12"
  }
 },
 "nbformat": 4,
 "nbformat_minor": 4
}
